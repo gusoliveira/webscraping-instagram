{
 "cells": [
  {
   "cell_type": "markdown",
   "metadata": {},
   "source": [
    "<center/><h3/><font color='green'/>Bibliotecas"
   ]
  },
  {
   "cell_type": "code",
   "execution_count": 5,
   "metadata": {},
   "outputs": [],
   "source": [
    "#Biblioteca necessária\n",
    "#pip install selenium"
   ]
  },
  {
   "cell_type": "code",
   "execution_count": 6,
   "metadata": {},
   "outputs": [],
   "source": [
    "#espera algo\n",
    "from selenium.webdriver.support.ui import WebDriverWait\n",
    "from selenium.webdriver.firefox.options import Options\n",
    "#envia comandos\n",
    "from selenium.webdriver.common.keys import Keys\n",
    "from selenium.webdriver import Firefox\n",
    "from selenium import webdriver\n",
    "import getpass\n",
    "import time"
   ]
  },
  {
   "cell_type": "markdown",
   "metadata": {},
   "source": [
    "<center/><h3/><font color='green'/>Pega Usuário e Senha"
   ]
  },
  {
   "cell_type": "code",
   "execution_count": null,
   "metadata": {},
   "outputs": [],
   "source": [
    "usuario = input(\"Diga seu usuário: \")"
   ]
  },
  {
   "cell_type": "code",
   "execution_count": null,
   "metadata": {},
   "outputs": [],
   "source": [
    "senha = getpass.getpass(\"Digite sua senha: \")"
   ]
  },
  {
   "cell_type": "markdown",
   "metadata": {},
   "source": [
    "<center/><h3/><font color='green'/>Seta as configurações e Abre a página"
   ]
  },
  {
   "cell_type": "code",
   "execution_count": 7,
   "metadata": {},
   "outputs": [],
   "source": [
    "# Grab content from URL (Pegar conteúdo HTML a partir da URL)\n",
    "url = \"https://www.instagram.com/accounts/login/?hl=pt-br&source=auth_switcher\"\n",
    "option = Options()\n",
    "#False para aparecer a págia web no navegador\n",
    "option.headless = False\n",
    "\n",
    "#Abre a aba do navegador\n",
    "driver = webdriver.Firefox(options=option)\n",
    "#Define o tamanho da tela do navegador\n",
    "driver.set_window_size(448,708)\n",
    "#Define a posição da janela do navegador\n",
    "driver.set_window_position(800,200)\n",
    "#Envia o url do instagram para o navegador acessar\n",
    "driver.get(url)"
   ]
  },
  {
   "cell_type": "markdown",
   "metadata": {},
   "source": [
    "<center/><h3/><font color='green'/>Seta Usuário e Senha"
   ]
  },
  {
   "cell_type": "code",
   "execution_count": 8,
   "metadata": {},
   "outputs": [],
   "source": [
    "def esperar_campo(firefox):\n",
    "  return driver.find_element_by_name(\"username\")\n",
    "carregando = WebDriverWait(driver, 5).until(esperar_campo)\n",
    "\n",
    "# Insere usuário no campo\n",
    "name_campo = driver.find_element_by_name(\"username\")\n",
    "name_campo.clear()\n",
    "name_campo.send_keys(usuario)\n",
    "\n",
    "# Insere senha no campo\n",
    "senha_campo = driver.find_element_by_name(\"password\")\n",
    "senha_campo.clear()\n",
    "senha_campo.send_keys(senha)\n",
    "\n",
    "# Aperta ENTER\n",
    "senha_campo.send_keys(Keys.ENTER)"
   ]
  },
  {
   "cell_type": "markdown",
   "metadata": {},
   "source": [
    "<center/><h3/><font color='green'/>Tira caixa de diálogo"
   ]
  },
  {
   "cell_type": "code",
   "execution_count": 9,
   "metadata": {},
   "outputs": [],
   "source": [
    "#Variáveis que vou precisar, elas trazem informações do código da página!\n",
    "dialog_box = \"//div[@class='piCib']\"\n",
    "button_dialog_box = \"//button[@class='aOOlW   HoLwm ']\"\n",
    "# Funcao para esperar caso o que foi pedido ainda não ser encontrado, espera 5s se for\n",
    "def espera_dialog(firefox):\n",
    "  return driver.find_element_by_xpath(dialog_box)\n",
    "\n",
    "# Espera janela de dialogo inicial\n",
    "esperando_jane_dialog = WebDriverWait(driver, 10).until(espera_dialog)\n",
    "\n",
    "# Aperta para fechar caixa de dialogo\n",
    "driver.find_element_by_xpath(button_dialog_box).click()"
   ]
  },
  {
   "cell_type": "markdown",
   "metadata": {},
   "source": [
    "\n",
    "<center/><h3/><font color='green'/>Visualiza Story's\n",
    "<center><font size='2'>Periodicamente o nome das classes dos botões são trocados </font></center>\n"
   ]
  },
  {
   "cell_type": "markdown",
   "metadata": {},
   "source": [
    "<!--\n",
    "def definir_forma():\n",
    "    # Bloco para pausar o codigo durante o carregamento da página\n",
    "    time.sleep(10)\n",
    "    try:\n",
    "        #(nome antigo da classe)tamanho1 = driver.find_element_by_xpath(\"//button[@class='-wt5I ']\")\n",
    "        #Tela Reduzida\n",
    "        tamanho1 = driver.find_element_by_xpath(window_little)\n",
    "    except Exception as e:\n",
    "        #(nome antigo da classe)tamanho2 = driver.find_element_by_xpath(\"//button[@class='BI5t6  bKWx4']\")\n",
    "        #Tela Maximizada\n",
    "        tamanho2 = driver.find_element_by_xpath(window_big)\n",
    "# Espera story\n",
    "def espera_story_func(firefox):\n",
    "    try: \n",
    "       return tamanho1\n",
    "    except:\n",
    "       return tamanho2\n",
    "esperando_story = WebDriverWait(driver, 5).until(espera_story_func)\n",
    "-->\n",
    "<center/>O código para definir tamanho da página está aqui"
   ]
  },
  {
   "cell_type": "code",
   "execution_count": 12,
   "metadata": {},
   "outputs": [],
   "source": [
    "#Variáveis do tamanho da tela\n",
    "window_big = \"//button[@class='jZyv1  H-yu6']\"\n",
    "window_little = \"//button[@class='OE3OK ']\"\n",
    "\n",
    "# Procedimento: Aperta para abrir um story\n",
    "def open_story ():\n",
    "    try:\n",
    "     #Tela Reduzida\n",
    "     driver.find_element_by_xpath(window_little).click()\n",
    "    except:\n",
    "     #Tela Maximizada   \n",
    "     driver.find_element_by_xpath(window_big).click()"
   ]
  },
  {
   "cell_type": "code",
   "execution_count": 13,
   "metadata": {},
   "outputs": [],
   "source": [
    "#Abre o story\n",
    "open_story()"
   ]
  },
  {
   "cell_type": "markdown",
   "metadata": {},
   "source": [
    "<center/>Passa as janelas do story para a direita"
   ]
  },
  {
   "cell_type": "code",
   "execution_count": null,
   "metadata": {},
   "outputs": [],
   "source": [
    "#window_story: Diz se os story's ainda estão abertos\n",
    "window_story =\"//section[@class='_8XqED  carul']\"\n",
    "#button_story_pass: É o endereço do botão para passar o story\n",
    "button_story_pass =\"//button[@class='ow3u_']\"\n",
    "\n",
    "#Abre os story's e vai passando\n",
    "while(True):\n",
    "    # Enquanto ainda tiver story, tente apertar no botão, se der erro, espere\n",
    "    try:\n",
    "        while(driver.find_element_by_xpath(window_story)):\n",
    "            driver.find_element_by_xpath(button_story_pass).click()\n",
    "            time.sleep(0.2)\n",
    "    except Exception as e:\n",
    "        time.sleep(1)\n",
    "        #espera_story_func(firefox)\n",
    "        #esperando_story = WebDriverWait(driver, 5).until(espera_story_func)\n",
    "        open_story()"
   ]
  },
  {
   "cell_type": "markdown",
   "metadata": {},
   "source": [
    "\n",
    "<center/><h3/><font color='green'/>Curte Publicações\n"
   ]
  },
  {
   "cell_type": "code",
   "execution_count": 10,
   "metadata": {},
   "outputs": [],
   "source": [
    "def curte_publicacoes():\n",
    "    for i in range(1,9):\n",
    "        try:\n",
    "            driver.find_element_by_css_selector(\"article._8Rm4L:nth-child(1n) > div:nth-child(3) > section:nth-child(1) > span:nth-child(1) > button:nth-child(1) > svg:nth-child(1)[aria-label='Curtir']\").click()\n",
    "        except Exception as e:\n",
    "            pass"
   ]
  },
  {
   "cell_type": "code",
   "execution_count": null,
   "metadata": {},
   "outputs": [],
   "source": [
    "#Desde página\n",
    "aux = 1\n",
    "while(True):\n",
    "    aux += 100\n",
    "    driver.execute_script(f'window.scrollTo(0,{aux})')\n",
    "    curte_publicacoes()"
   ]
  },
  {
   "cell_type": "markdown",
   "metadata": {},
   "source": [
    "\n",
    "<center/><h3/><font color='green'/>Finaliza as Operações\n"
   ]
  },
  {
   "cell_type": "code",
   "execution_count": 18,
   "metadata": {},
   "outputs": [],
   "source": [
    "driver.quit()"
   ]
  },
  {
   "cell_type": "code",
   "execution_count": null,
   "metadata": {},
   "outputs": [],
   "source": []
  }
 ],
 "metadata": {
  "kernelspec": {
   "display_name": "Python 3",
   "language": "python",
   "name": "python3"
  },
  "language_info": {
   "codemirror_mode": {
    "name": "ipython",
    "version": 3
   },
   "file_extension": ".py",
   "mimetype": "text/x-python",
   "name": "python",
   "nbconvert_exporter": "python",
   "pygments_lexer": "ipython3",
   "version": "3.7.6"
  }
 },
 "nbformat": 4,
 "nbformat_minor": 4
}
